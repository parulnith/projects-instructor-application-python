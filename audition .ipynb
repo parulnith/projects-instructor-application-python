{
 "cells": [
  {
   "cell_type": "markdown",
   "metadata": {
    "collapsed": true
   },
   "source": [
    "Welcome to your DataCamp project audition! This notebook must be filled out and vetted before a contract can be signed and you can start creating your project.\n",
    "\n",
    "The first step is forking the repository in which this notebook lives. After that, there are two parts to be completed in this notebook:\n",
    "\n",
    "- **Project information**:  The title of the project, a project description, etc.\n",
    "\n",
    "- **Project introduction**: The three first text and code cells that will form the introduction of your project.\n",
    "\n",
    "When complete, please email the link to your forked repo to projects@datacamp.com with the email subject line _DataCamp project audition_. If you have any questions, please reach out to projects@datacamp.com."
   ]
  },
  {
   "cell_type": "markdown",
   "metadata": {},
   "source": [
    "# Project information"
   ]
  },
  {
   "cell_type": "markdown",
   "metadata": {},
   "source": [
    "**Project title**:  Predicting Amazon's Stock Prices\n",
    "\n",
    "**Name:** Parul Pandey\n",
    "\n",
    "**Email address associated with your DataCamp account:** parulnith@gmail.com\n",
    "\n",
    "**Project description**: \n",
    "\n",
    "Stock markets play an important part in the economy of a country. The government, industry and the central banks keep a close eye on the fluctuations of the stock prices since there is a lot to gain and lose from it. Predicting stock prices is a very difficult thing to achieve due to the volatile nature of the industry. However, Machine learning has proved to be of immense help when predicting stock prices. Not only does Machine Learning make the whole process simpler, but it also helps to provide near accurate results for the same. \n",
    "In this project, you will use machine learning techniques to predict and analyze the stock prices of the e-commerce giant **Amazon**.\n",
    "\n",
    "Some recommended prerequisites for this project are:\n",
    "* [Supervised Learning with scikit-learn](https://www.datacamp.com/courses/supervised-learning-with-scikit-learn)\n",
    "* [pandas Foundations](https://www.datacamp.com/courses/pandas-foundations)\n",
    "* [Introduction to Data Visualization with Python](https://www.datacamp.com/courses/introduction-to-data-visualization-with-python)\n",
    "\n",
    "\n",
    "The stock data has been taken from [Quandl](https://www.quandl.com/), a company that offers a python API to grab data from a number of sources. Quandl sources data from over 500 publishers and has options for free and paid data sources. The data used is in this project is free and has been extracted and converted to a .csv file."
   ]
  },
  {
   "cell_type": "markdown",
   "metadata": {},
   "source": [
    "# Project introduction\n",
    "\n",
    "***Note: nothing needs to be filled out in this cell. It is simply setting up the template cells below.***\n",
    "\n",
    "The final output of a DataCamp project looks like a blog post: pairs of text and code cells that tell a story about data. The text is written from the perspective of the data analyst and *not* from the perspective of an instructor on DataCamp. So, for this blog post intro, all you need to do is pretend like you're writing a blog post -- forget the part about instructors and students.\n",
    "\n",
    "Below you'll see the structure of a DataCamp project: a series of \"tasks\" where each task consists of a title, a **single** text cell, and a **single** code cell. There are 8-12 tasks in a project and each task can have up to 10 lines of code. What you need to do:\n",
    "1. Read through the template structure.\n",
    "2. As best you can, divide your project as it is currently visualized in your mind into tasks.\n",
    "3. Fill out the template structure for the first three tasks of your project.\n",
    "\n",
    "As you are completing each task, you may wish to consult the project notebook format in our [documentation](https://instructor-support.datacamp.com/projects/datacamp-projects-jupyter-notebook). Only the `@context` and `@solution` cells are relevant to this audition."
   ]
  },
  {
   "cell_type": "markdown",
   "metadata": {},
   "source": [
    "## 1. Amazon Stock Data"
   ]
  },
  {
   "cell_type": "markdown",
   "metadata": {},
   "source": [
    "\n",
    "  ![](img/Amazon%20logo.png)[Amazon](https://en.wikipedia.org/wiki/Amazon_(company)), founded in 1994 by Jeff Bezos,is multinational technology company focusing in e-commerce, cloud computing, and artificial intelligence. It is the largest Internet company by revenue in the world and the second largest employer in the United States. Amazon surpassed Walmart as the most valuable retailer in the United States by market capitalization In 2017.\n",
    "\n",
    "Amazon's stock has performed quite well over the years and what if we could predict it's stock price value thirty days into the future? Yes Machine Learning makes it possible and we will see hoe we could do that in this notebook.\n",
    "\n",
    "We shall begin by importing the necessary modules and data into the notebook and inspecting it. The stock data is from 2010 onwards."
   ]
  },
  {
   "cell_type": "code",
   "execution_count": null,
   "metadata": {},
   "outputs": [],
   "source": [
    "\n",
    "# Importing required modules\n",
    "import pandas as pd\n",
    "import numpy as np\n",
    "import matplotlib.pyplot as plt\n",
    "\n",
    "# Settings to pretty nice plots \n",
    "plt.style.use('fivethirtyeight')\n",
    "%matplotlib inline\n",
    "\n",
    "# Reading in the data\n",
    "amazon_data = pd.read_csv('datasets/amazon_stock.csv', parse_dates=['date'], index_col='date')\n",
    "\n",
    "# Inspecting the data\n",
    "amazon_data.head()\n"
   ]
  },
  {
   "cell_type": "markdown",
   "metadata": {},
   "source": [
    "## 2. A first look at Amazon's stock Prices"
   ]
  },
  {
   "cell_type": "markdown",
   "metadata": {},
   "source": [
    "On inspecting the dataset, we found that first two columns aren't adding any value to our analysis. Let us get rid of them."
   ]
  },
  {
   "cell_type": "code",
   "execution_count": null,
   "metadata": {},
   "outputs": [],
   "source": [
    "# Dropping of the first two columns\n",
    "amazon_data.drop(columns = ['None','ticker'],inplace=True)\n",
    "\n",
    "# Display the first few columns again to see if everything is in order\n",
    "amazon_data.head()\n"
   ]
  },
  {
   "cell_type": "markdown",
   "metadata": {},
   "source": [
    "## 3. Visualising the Adjusted Closing Price of Amazon Stock"
   ]
  },
  {
   "cell_type": "markdown",
   "metadata": {},
   "source": [
    "The dataset contains a number of columns. \n",
    "* The **Open** and **Close** columns indicate the opening and closing price of the stocks on a particular day \n",
    "* The **High** and **Low** prices are the highest and the lowest price for the stock respectively. \n",
    "* **Volume** is the total volume of stocks traded. \n",
    "* **Adj_close** is the the [Adjusted closing Price](https://www.investopedia.com/terms/a/adjusted_closing_price.asp) which is stock's closing price on any given day of trading that has been amended to include any distributions and corporate actions that occurred at any time before the next day's open. The adjusted closing price is often used when examining historical returns or performing a detailed analysis of historical returns and it will be used in our analysis also.\n",
    "\n",
    "Let us visualise the Adjusted Close Price of the stocks to have a better sense of the data."
   ]
  },
  {
   "cell_type": "code",
   "execution_count": null,
   "metadata": {},
   "outputs": [],
   "source": [
    "# visualize the adjusted close price of the stock data\n",
    "amazon_data['adj_close'].plot(label = 'Amazon',figsize=(16,8),title='Adjusted Closing Price',)\n",
    "plt.ylabel('Price');"
   ]
  },
  {
   "cell_type": "markdown",
   "metadata": {},
   "source": [
    "*Stop here! Only the three first tasks. :)*"
   ]
  }
 ],
 "metadata": {
  "kernelspec": {
   "display_name": "Python 3",
   "language": "python",
   "name": "python3"
  },
  "language_info": {
   "codemirror_mode": {
    "name": "ipython",
    "version": 3
   },
   "file_extension": ".py",
   "mimetype": "text/x-python",
   "name": "python",
   "nbconvert_exporter": "python",
   "pygments_lexer": "ipython3",
   "version": "3.7.2"
  }
 },
 "nbformat": 4,
 "nbformat_minor": 2
}
